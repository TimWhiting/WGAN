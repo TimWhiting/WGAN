{
  "nbformat": 4,
  "nbformat_minor": 0,
  "metadata": {
    "colab": {
      "name": "julia.ipynb",
      "version": "0.3.2",
      "provenance": [],
      "include_colab_link": true
    },
    "kernelspec": {
      "name": "julia-1.0",
      "display_name": "Julia 1.0"
    },
    "accelerator": "GPU"
  },
  "cells": [
    {
      "cell_type": "markdown",
      "metadata": {
        "id": "view-in-github",
        "colab_type": "text"
      },
      "source": [
        "<a href=\"https://colab.research.google.com/github/TimWhiting/WGAN/blob/master/wgan.ipynb\" target=\"_parent\"><img src=\"https://colab.research.google.com/assets/colab-badge.svg\" alt=\"Open In Colab\"/></a>"
      ]
    },
    {
      "metadata": {
        "id": "PMGwZ7aFJL8Y",
        "colab_type": "code",
        "outputId": "76720b89-0252-4d7a-b188-29b4de410c50",
        "colab": {
          "base_uri": "https://localhost:8080/",
          "height": 93
        }
      },
      "cell_type": "code",
      "source": [
        "using Pkg\n",
        "pkg\"st\""
      ],
      "execution_count": 1,
      "outputs": [
        {
          "output_type": "stream",
          "text": [
            "\u001b[32m\u001b[1m    Status\u001b[22m\u001b[39m `~/.julia/environments/v1.1/Project.toml`\n",
            " \u001b[90m [3a865a2d]\u001b[39m\u001b[37m CuArrays v0.9.1\u001b[39m\n",
            " \u001b[90m [587475ba]\u001b[39m\u001b[37m Flux v0.7.3\u001b[39m\n",
            " \u001b[90m [7073ff75]\u001b[39m\u001b[37m IJulia v1.17.0\u001b[39m\n"
          ],
          "name": "stdout"
        }
      ]
    },
    {
      "metadata": {
        "id": "iIxu4TjlJnBG",
        "colab_type": "code",
        "colab": {
          "base_uri": "https://localhost:8080/",
          "height": 720
        },
        "outputId": "333b922a-75c3-41a5-eff7-6fcd5dba5f78"
      },
      "cell_type": "code",
      "source": [
        "using Flux, Flux.Data.MNIST, Statistics\n",
        "using Flux: onehotbatch, onecold, crossentropy, throttle\n",
        "using Base.Iterators: repeated\n",
        "# using CuArrays\n",
        "\n",
        "# Classify MNIST digits with a simple multi-layer-perceptron\n",
        "\n",
        "imgs = MNIST.images()\n",
        "# Stack images into one large batch\n",
        "X = hcat(float.(reshape.(imgs, :))...) |> gpu\n",
        "\n",
        "labels = MNIST.labels()\n",
        "# One-hot-encode the labels\n",
        "Y = onehotbatch(labels, 0:9) |> gpu\n",
        "\n",
        "m = Chain(\n",
        "  Dense(28^2, 32, relu),\n",
        "  Dense(32, 10),\n",
        "  softmax) |> gpu\n",
        "\n",
        "loss(x, y) = crossentropy(m(x), y)\n",
        "\n",
        "accuracy(x, y) = mean(onecold(m(x)) .== onecold(y))\n",
        "\n",
        "dataset = repeated((X, Y), 200)\n",
        "evalcb = () -> @show(loss(X, Y))\n",
        "opt = ADAM()\n",
        "\n",
        "Flux.train!(loss, params(m), dataset, opt, cb = throttle(evalcb, 10))\n",
        "\n",
        "accuracy(X, Y)\n",
        "\n",
        "# Test set accuracy\n",
        "tX = hcat(float.(reshape.(MNIST.images(:test), :))...) |> gpu\n",
        "tY = onehotbatch(MNIST.labels(:test), 0:9) |> gpu\n",
        "\n",
        "accuracy(tX, tY)"
      ],
      "execution_count": 2,
      "outputs": [
        {
          "output_type": "stream",
          "text": [
            "┌ Info: Downloading MNIST dataset\n",
            "└ @ Flux.Data.MNIST /root/.julia/packages/Flux/8XpDt/src/data/mnist.jl:24\n",
            "  % Total    % Received % Xferd  Average Speed   Time    Time     Time  Current\n",
            "                                 Dload  Upload   Total   Spent    Left  Speed\n",
            "100   469  100   469    0     0   1260      0 --:--:-- --:--:-- --:--:--  1260\n",
            "100 9680k  100 9680k    0     0  5540k      0  0:00:01  0:00:01 --:--:-- 11.2M\n",
            "┌ Info: Downloading MNIST dataset\n",
            "└ @ Flux.Data.MNIST /root/.julia/packages/Flux/8XpDt/src/data/mnist.jl:24\n",
            "  % Total    % Received % Xferd  Average Speed   Time    Time     Time  Current\n",
            "                                 Dload  Upload   Total   Spent    Left  Speed\n",
            "100   469  100   469    0     0   1359      0 --:--:-- --:--:-- --:--:--  1359\n",
            "100 28881  100 28881    0     0  37074      0 --:--:-- --:--:-- --:--:-- 37074\n",
            "┌ Info: Downloading MNIST dataset\n",
            "└ @ Flux.Data.MNIST /root/.julia/packages/Flux/8XpDt/src/data/mnist.jl:24\n",
            "  % Total    % Received % Xferd  Average Speed   Time    Time     Time  Current\n",
            "                                 Dload  Upload   Total   Spent    Left  Speed\n",
            "100   467  100   467    0     0   1369      0 --:--:-- --:--:-- --:--:--  1369\n",
            "100 1610k  100 1610k    0     0  1313k      0  0:00:01  0:00:01 --:--:--  181M\n",
            "┌ Info: Downloading MNIST dataset\n",
            "└ @ Flux.Data.MNIST /root/.julia/packages/Flux/8XpDt/src/data/mnist.jl:24\n",
            "  % Total    % Received % Xferd  Average Speed   Time    Time     Time  Current\n",
            "                                 Dload  Upload   Total   Spent    Left  Speed\n",
            "100   467  100   467    0     0   1286      0 --:--:-- --:--:-- --:--:--  1286\n",
            "100  4542  100  4542    0     0   6230      0 --:--:-- --:--:-- --:--:--  6230\n"
          ],
          "name": "stderr"
        },
        {
          "output_type": "stream",
          "text": [
            "loss(X, Y) = 2.3943195f0 (tracked)\n",
            "loss(X, Y) = 1.4799397f0 (tracked)\n",
            "loss(X, Y) = 0.878435f0 (tracked)\n",
            "loss(X, Y) = 0.61466485f0 (tracked)\n",
            "loss(X, Y) = 0.4980928f0 (tracked)\n",
            "loss(X, Y) = 0.43048984f0 (tracked)\n",
            "loss(X, Y) = 0.38755375f0 (tracked)\n",
            "loss(X, Y) = 0.3574278f0 (tracked)\n",
            "loss(X, Y) = 0.3348664f0 (tracked)\n",
            "loss(X, Y) = 0.31710288f0 (tracked)\n",
            "loss(X, Y) = 0.30330062f0 (tracked)\n",
            "loss(X, Y) = 0.29087296f0 (tracked)\n"
          ],
          "name": "stdout"
        },
        {
          "output_type": "execute_result",
          "data": {
            "text/plain": [
              "0.9234"
            ]
          },
          "metadata": {
            "tags": []
          },
          "execution_count": 2
        }
      ]
    }
  ]
}