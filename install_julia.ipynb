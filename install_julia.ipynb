{
  "nbformat": 4,
  "nbformat_minor": 0,
  "metadata": {
    "colab": {
      "name": "install-julia.ipynb",
      "version": "0.3.2",
      "provenance": [],
      "include_colab_link": true
    },
    "kernelspec": {
      "name": "python3",
      "display_name": "Python 3"
    },
    "accelerator": "GPU"
  },
  "cells": [
    {
      "cell_type": "markdown",
      "metadata": {
        "id": "view-in-github",
        "colab_type": "text"
      },
      "source": [
        "<a href=\"https://colab.research.google.com/github/TimWhiting/WGAN/blob/master/install_julia.ipynb\" target=\"_parent\"><img src=\"https://colab.research.google.com/assets/colab-badge.svg\" alt=\"Open In Colab\"/></a>"
      ]
    },
    {
      "metadata": {
        "id": "cEOANYIVIdR5",
        "colab_type": "code",
        "outputId": "85620bb0-1027-48e2-fb5d-896690413091",
        "colab": {
          "base_uri": "https://localhost:8080/",
          "height": 492
        }
      },
      "cell_type": "code",
      "source": [
        "#!wget https://developer.nvidia.com/compute/cuda/9.0/Prod/local_installers/cuda-repo-ubuntu1604-9-0-local_9.0.176-1_amd64-deb\n",
        "#!dpkg -i cuda-repo-ubuntu1604-9-0-local_9.0.176-1_amd64-deb\n",
        "#!apt-key add /var/cuda-repo-9-0-local/7fa2af80.pub\n",
        "#!apt update -q\n",
        "#!apt install cuda-9-0 gcc-6 g++-6 -y -q\n",
        "#!ln -s /usr/bin/gcc-6 /usr/local/cuda/bin/gcc\n",
        "#!ln -s /usr/bin/g++-6 /usr/local/cuda/bin/g++\n",
        "!nvcc --version\n",
        "!curl -sSL \"https://julialang-s3.julialang.org/bin/linux/x64/1.1/julia-1.1.0-linux-x86_64.tar.gz\" -o julia.tar.gz\n",
        "!tar -xzf julia.tar.gz -C /usr --strip-components 1\n",
        "!rm -rf julia.tar.gz*\n",
        "!julia -e 'using Pkg; pkg\"add IJulia; add CuArrays; add Flux; precompile\"'"
      ],
      "execution_count": 2,
      "outputs": [
        {
          "output_type": "stream",
          "text": [
            "nvcc: NVIDIA (R) Cuda compiler driver\n",
            "Copyright (c) 2005-2018 NVIDIA Corporation\n",
            "Built on Sat_Aug_25_21:08:01_CDT_2018\n",
            "Cuda compilation tools, release 10.0, V10.0.130\n",
            "  Updating registry at `~/.julia/registries/General`\n",
            "  Updating git-repo `https://github.com/JuliaRegistries/General.git`\n",
            "\u001b[?25l\u001b[2K\u001b[?25h Resolving package versions...\n",
            "  Updating `~/.julia/environments/v1.1/Project.toml`\n",
            " [no changes]\n",
            "  Updating `~/.julia/environments/v1.1/Manifest.toml`\n",
            " [no changes]\n",
            " Resolving package versions...\n",
            "  Updating `~/.julia/environments/v1.1/Project.toml`\n",
            " [no changes]\n",
            "  Updating `~/.julia/environments/v1.1/Manifest.toml`\n",
            " [no changes]\n",
            " Resolving package versions...\n",
            "  Updating `~/.julia/environments/v1.1/Project.toml`\n",
            " [no changes]\n",
            "  Updating `~/.julia/environments/v1.1/Manifest.toml`\n",
            " [no changes]\n",
            "Precompiling project...\n",
            "Precompiling CuArrays\n",
            "Precompiling IJulia\n",
            "Precompiling Flux\n"
          ],
          "name": "stdout"
        }
      ]
    },
    {
      "metadata": {
        "id": "srsjwH5ad9iH",
        "colab_type": "text"
      },
      "cell_type": "markdown",
      "source": [
        "[Go](https://colab.research.google.com/github/TimWhiting/WGAN/blob/master/wgan.ipynb)"
      ]
    },
    {
      "metadata": {
        "id": "bqp7S32ULebR",
        "colab_type": "code",
        "colab": {}
      },
      "cell_type": "code",
      "source": [
        ""
      ],
      "execution_count": 0,
      "outputs": []
    }
  ]
}