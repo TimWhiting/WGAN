{
  "nbformat": 4,
  "nbformat_minor": 0,
  "metadata": {
    "colab": {
      "name": "install-julia.ipynb",
      "version": "0.3.2",
      "provenance": [],
      "include_colab_link": true
    },
    "kernelspec": {
      "name": "python3",
      "display_name": "Python 3"
    },
    "accelerator": "GPU"
  },
  "cells": [
    {
      "cell_type": "markdown",
      "metadata": {
        "id": "view-in-github",
        "colab_type": "text"
      },
      "source": [
        "<a href=\"https://colab.research.google.com/github/TimWhiting/WGAN/blob/master/install_julia.ipynb\" target=\"_parent\"><img src=\"https://colab.research.google.com/assets/colab-badge.svg\" alt=\"Open In Colab\"/></a>"
      ]
    },
    {
      "metadata": {
        "id": "cEOANYIVIdR5",
        "colab_type": "code",
        "outputId": "aaf7f874-6c5c-498b-ee00-d75de487afa0",
        "colab": {
          "base_uri": "https://localhost:8080/",
          "height": 2259
        }
      },
      "cell_type": "code",
      "source": [
        "!wget https://developer.nvidia.com/compute/cuda/9.0/Prod/local_installers/cuda-repo-ubuntu1604-9-0-local_9.0.176-1_amd64-deb\n",
        "!dpkg -i cuda-repo-ubuntu1604-9-0-local_9.0.176-1_amd64-deb\n",
        "!apt-key add /var/cuda-repo-9-0-local/7fa2af80.pub\n",
        "!apt update -q\n",
        "!apt install cuda-9-0 gcc-6 g++-6 -y -q\n",
        "!ln -s /usr/bin/gcc-6 /usr/local/cuda/bin/gcc\n",
        "!ln -s /usr/bin/g++-6 /usr/local/cuda/bin/g++\n",
        "\n",
        "!curl -sSL \"https://julialang-s3.julialang.org/bin/linux/x64/1.1/julia-1.1.0-linux-x86_64.tar.gz\" -o julia.tar.gz\n",
        "!tar -xzf julia.tar.gz -C /usr --strip-components 1\n",
        "!rm -rf julia.tar.gz*\n",
        "!julia -e 'using Pkg; pkg\"add IJulia; add CuArrays; add Flux; precompile\"'"
      ],
      "execution_count": 2,
      "outputs": [
        {
          "output_type": "stream",
          "text": [
            "  Updating registry at `~/.julia/registries/General`\n",
            "  Updating git-repo `https://github.com/JuliaRegistries/General.git`\n",
            "\u001b[?25l\u001b[2K\u001b[?25h Resolving package versions...\n",
            "  Updating `~/.julia/environments/v1.1/Project.toml`\n",
            "  [7073ff75] + IJulia v1.17.0\n",
            "  Updating `~/.julia/environments/v1.1/Manifest.toml`\n",
            "  [b99e7846] + BinaryProvider v0.5.3\n",
            "  [34da2185] + Compat v2.0.0\n",
            "  [8f4d0f93] + Conda v1.2.0\n",
            "  [7073ff75] + IJulia v1.17.0\n",
            "  [682c06a0] + JSON v0.20.0\n",
            "  [739be429] + MbedTLS v0.6.8\n",
            "  [b85f4697] + SoftGlobalScope v1.0.9\n",
            "  [81def892] + VersionParsing v1.1.3\n",
            "  [c2297ded] + ZMQ v1.0.0\n",
            "  [2a0f44e3] + Base64 \n",
            "  [ade2ca70] + Dates \n",
            "  [8bb1440f] + DelimitedFiles \n",
            "  [8ba89e20] + Distributed \n",
            "  [7b1f6079] + FileWatching \n",
            "  [b77e0a4c] + InteractiveUtils \n",
            "  [76f85450] + LibGit2 \n",
            "  [8f399da3] + Libdl \n",
            "  [37e2e46d] + LinearAlgebra \n",
            "  [56ddb016] + Logging \n",
            "  [d6f4376e] + Markdown \n",
            "  [a63ad114] + Mmap \n",
            "  [44cfe95a] + Pkg \n",
            "  [de0858da] + Printf \n",
            "  [3fa0cd96] + REPL \n",
            "  [9a3f8284] + Random \n",
            "  [ea8e919c] + SHA \n",
            "  [9e88b42a] + Serialization \n",
            "  [1a1011a3] + SharedArrays \n",
            "  [6462fe0b] + Sockets \n",
            "  [2f01184e] + SparseArrays \n",
            "  [10745b16] + Statistics \n",
            "  [8dfed614] + Test \n",
            "  [cf7118a7] + UUIDs \n",
            "  [4ec0a83e] + Unicode \n",
            " Resolving package versions...\n",
            "  Updating `~/.julia/environments/v1.1/Project.toml`\n",
            "  [3a865a2d] + CuArrays v0.9.1\n",
            "  Updating `~/.julia/environments/v1.1/Manifest.toml`\n",
            "  [621f4979] + AbstractFFTs v0.3.2\n",
            "  [79e6a3ab] + Adapt v0.4.2\n",
            "  [9e28174c] + BinDeps v0.8.10\n",
            "  [3895d2a7] + CUDAapi v0.6.1\n",
            "  [c5f51814] + CUDAdrv v1.0.1\n",
            "  [be33ccc6] + CUDAnative v1.0.1\n",
            "  [bbf7d656] + CommonSubexpressions v0.2.0\n",
            "  [3a865a2d] + CuArrays v0.9.1\n",
            "  [163ba53b] + DiffResults v0.0.4\n",
            "  [b552c78f] + DiffRules v0.0.10\n",
            "  [7a1cc6ca] + FFTW v0.2.4\n",
            "  [1a297f60] + FillArrays v0.4.0\n",
            "  [f6369f11] + ForwardDiff v0.10.3\n",
            "  [0c68f7d7] + GPUArrays v0.6.1\n",
            "  [929cbde3] + LLVM v1.0.0\n",
            "  [1914dd2f] + MacroTools v0.4.5\n",
            "  [872c559c] + NNlib v0.4.3\n",
            "  [77ba4419] + NaNMath v0.3.2\n",
            "  [189a3867] + Reexport v0.2.0\n",
            "  [ae029012] + Requires v0.5.2\n",
            "  [276daf66] + SpecialFunctions v0.7.2\n",
            "  [90137ffa] + StaticArrays v0.10.3\n",
            "  [30578b45] + URIParser v0.4.0\n",
            " Resolving package versions...\n",
            "  Updating `~/.julia/environments/v1.1/Project.toml`\n",
            "  [587475ba] + Flux v0.7.3\n",
            "  Updating `~/.julia/environments/v1.1/Manifest.toml`\n",
            "  [1520ce14] + AbstractTrees v0.2.1\n",
            "  [944b1d66] + CodecZlib v0.5.2\n",
            "  [3da002f7] + ColorTypes v0.7.5\n",
            "  [5ae59095] + Colors v0.9.5\n",
            "  [864edb3b] + DataStructures v0.15.0\n",
            "  [53c48c17] + FixedPointNumbers v0.5.3\n",
            "  [587475ba] + Flux v0.7.3\n",
            "  [e5e0dc1b] + Juno v0.5.5\n",
            "  [e89f7d12] + Media v0.5.0\n",
            "  [e1d29d7a] + Missings v0.4.0\n",
            "  [bac558e1] + OrderedCollections v1.0.2\n",
            "  [a2af1166] + SortingAlgorithms v0.3.1\n",
            "  [2913bbd2] + StatsBase v0.29.0\n",
            "  [3bb67fe8] + TranscodingStreams v0.9.1\n",
            "  [a5390f91] + ZipFile v0.8.0\n",
            "  [9abbd945] + Profile \n",
            "Precompiling project...\n",
            "Precompiling CuArrays\n",
            "ERROR: LoadError: LoadError: UndefVarError: CUBLAS not defined\n",
            "Stacktrace:\n",
            " [1] top-level scope at none:0 (repeats 2 times)\n",
            " [2] include at ./boot.jl:326 [inlined]\n",
            " [3] include_relative(::Module, ::String) at ./loading.jl:1038\n",
            " [4] include at ./sysimg.jl:29 [inlined]\n",
            " [5] include(::String) at /root/.julia/packages/CuArrays/PD3UJ/src/CuArrays.jl:3\n",
            " [6] top-level scope at none:0\n",
            " [7] include at ./boot.jl:326 [inlined]\n",
            " [8] include_relative(::Module, ::String) at ./loading.jl:1038\n",
            " [9] include(::Module, ::String) at ./sysimg.jl:29\n",
            " [10] top-level scope at none:2\n",
            " [11] eval at ./boot.jl:328 [inlined]\n",
            " [12] eval(::Expr) at ./client.jl:404\n",
            " [13] top-level scope at ./none:3\n",
            "in expression starting at /root/.julia/packages/CuArrays/PD3UJ/src/deprecated.jl:5\n",
            "in expression starting at /root/.julia/packages/CuArrays/PD3UJ/src/CuArrays.jl:53\n",
            "ERROR: Failed to precompile CuArrays [3a865a2d-5b23-5a0f-bc46-62713ec82fae] to /root/.julia/compiled/v1.1/CuArrays/7YFE0.ji.\n",
            "Stacktrace:\n",
            " [1] error(::String) at ./error.jl:33\n",
            " [2] compilecache(::Base.PkgId, ::String) at ./loading.jl:1197\n",
            " [3] precompile(::Pkg.Types.Context) at /buildworker/worker/package_linux64/build/usr/share/julia/stdlib/v1.1/Pkg/src/API.jl:429\n",
            " [4] do_precompile!(::Dict{Symbol,Any}, ::Array{String,1}, ::Dict{Symbol,Any}) at /buildworker/worker/package_linux64/build/usr/share/julia/stdlib/v1.1/Pkg/src/REPLMode.jl:612\n",
            " [5] #invokelatest#1(::Base.Iterators.Pairs{Union{},Union{},Tuple{},NamedTuple{(),Tuple{}}}, ::Function, ::Any, ::Any, ::Vararg{Any,N} where N) at ./essentials.jl:742\n",
            " [6] invokelatest(::Any, ::Any, ::Vararg{Any,N} where N) at ./essentials.jl:741\n",
            " [7] do_cmd!(::Pkg.REPLMode.PkgCommand, ::Pkg.REPLMode.MiniREPL) at /buildworker/worker/package_linux64/build/usr/share/julia/stdlib/v1.1/Pkg/src/REPLMode.jl:561\n",
            " [8] #do_cmd#30(::Bool, ::Function, ::Pkg.REPLMode.MiniREPL, ::String) at /buildworker/worker/package_linux64/build/usr/share/julia/stdlib/v1.1/Pkg/src/REPLMode.jl:536\n",
            " [9] (::getfield(Pkg.REPLMode, Symbol(\"#kw##do_cmd\")))(::NamedTuple{(:do_rethrow,),Tuple{Bool}}, ::typeof(Pkg.REPLMode.do_cmd), ::Pkg.REPLMode.MiniREPL, ::String) at ./none:0\n",
            " [10] top-level scope at none:0\n"
          ],
          "name": "stdout"
        }
      ]
    },
    {
      "metadata": {
        "id": "srsjwH5ad9iH",
        "colab_type": "text"
      },
      "cell_type": "markdown",
      "source": [
        "[Go](https://colab.research.google.com/github/TimWhiting/WGAN/blob/master/wgan.ipynb)"
      ]
    },
    {
      "metadata": {
        "id": "bqp7S32ULebR",
        "colab_type": "code",
        "colab": {}
      },
      "cell_type": "code",
      "source": [
        ""
      ],
      "execution_count": 0,
      "outputs": []
    }
  ]
}